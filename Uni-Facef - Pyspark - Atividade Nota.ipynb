{
 "cells": [
  {
   "cell_type": "markdown",
   "metadata": {},
   "source": [
    "# <font color='blue'>Uni-Facef - Pyspark - Atividade</font>"
   ]
  },
  {
   "cell_type": "markdown",
   "metadata": {},
   "source": [
    "Essa atividade tem como objetivo descobrir um pouco mais sobre o cliente e traçar um perfil do mesmo. Visto que temos as informações pessoais do cliemte em um arquivo chamado \"cliente_fake.csv\", e os dados transacionais desse cliente no arquivo chamado \"venda_fake\". E idéia do exercicio é a manipulação dos dados de forma a fazer agregações, join nos dados, podendo ser necessário o uso de UDFs, gerando um Dataframe Final:\n",
    "\n",
    "#### O Dataframe final deve estar agrupado por cliente (cliente_id), e conter as seguintes informações:\n",
    "\n",
    "- cliente_id - O identificador do cliente\n",
    "- idade - Calcular a idade do cliente (valor inteiro)\n",
    "- recencia - Calcular a quantos meses faz que o cliente não compra (valor inteiro)\n",
    "- qt_total_compras - Quantidade total de compras (pedidos distintos)\n",
    "- vr_total_compras = Valor total de compras do cliente\n",
    "- qt_total_itens - Quantidade total de itens comprados pelo cliente (produto_id distintos)\n",
    "- qt_max_parcelas - Quantidade máxima de parcelas que o cliente já utilizou\n",
    "- perfil_cliente - Deve mostrar o perfil de compra desse cliente, se compra somente \"loja\" ou somente \"online\", ou em ambos \"multicanal\";\n",
    "\n",
    "OBS: O dataset \"venda_fake\" está a nível de itens. Pode haver mais de um item por pedido, ito é, o numero do pedido pode estar duplicado nodataset. \n"
   ]
  },
  {
   "cell_type": "code",
   "execution_count": 1,
   "metadata": {},
   "outputs": [
    {
     "name": "stdout",
     "output_type": "stream",
     "text": [
      "Requirement already satisfied: pyspark in /home/luindayk/.pyenv/versions/3.6.12/lib/python3.6/site-packages (3.0.1)\n",
      "Requirement already satisfied: py4j==0.10.9 in /home/luindayk/.pyenv/versions/3.6.12/lib/python3.6/site-packages (from pyspark) (0.10.9)\n",
      "\u001b[33mYou are using pip version 18.1, however version 20.3.1 is available.\n",
      "You should consider upgrading via the 'pip install --upgrade pip' command.\u001b[0m\n"
     ]
    }
   ],
   "source": [
    "!pip install pyspark"
   ]
  },
  {
   "cell_type": "code",
   "execution_count": 2,
   "metadata": {},
   "outputs": [],
   "source": [
    "# coding: utf-8\n",
    "from pyspark.sql import SparkSession"
   ]
  },
  {
   "cell_type": "code",
   "execution_count": 3,
   "metadata": {},
   "outputs": [],
   "source": [
    "spark = SparkSession.builder \\\n",
    "    .appName('ConhecendoCliente') \\\n",
    "    .getOrCreate()"
   ]
  },
  {
   "cell_type": "markdown",
   "metadata": {},
   "source": [
    "#### Dataset de cliente"
   ]
  },
  {
   "cell_type": "code",
   "execution_count": 4,
   "metadata": {},
   "outputs": [
    {
     "name": "stdout",
     "output_type": "stream",
     "text": [
      "+--------------+----------+-------------+\n",
      "|          nome|cliente_id|dt_nascimento|\n",
      "+--------------+----------+-------------+\n",
      "|Cliente 100013|    100013|   1964-06-21|\n",
      "|Cliente 100014|    100014|   1964-05-24|\n",
      "|Cliente 100015|    100015|   1946-10-18|\n",
      "|Cliente 100016|    100016|   1972-03-24|\n",
      "|Cliente 100017|    100017|   1982-01-19|\n",
      "|Cliente 100018|    100018|   1983-04-26|\n",
      "|Cliente 100019|    100019|   1971-09-09|\n",
      "|Cliente 100020|    100020|   1989-06-18|\n",
      "|Cliente 100007|    100007|   1976-11-04|\n",
      "|Cliente 100008|    100008|   1980-12-01|\n",
      "|Cliente 100009|    100009|   1981-03-05|\n",
      "|Cliente 100010|    100010|   1984-03-20|\n",
      "|Cliente 100011|    100011|   1977-11-22|\n",
      "|Cliente 100012|    100012|   1974-02-04|\n",
      "|Cliente 100001|    100001|   2009-04-16|\n",
      "|Cliente 100002|    100002|   1974-08-29|\n",
      "|Cliente 100003|    100003|   1981-12-05|\n",
      "|Cliente 100004|    100004|   1968-08-08|\n",
      "|Cliente 100005|    100005|   1982-11-29|\n",
      "|Cliente 100006|    100006|   1948-04-01|\n",
      "+--------------+----------+-------------+\n",
      "\n"
     ]
    }
   ],
   "source": [
    "df_cliente = spark.read \\\n",
    "    .option(\"delimiter\", \"|\") \\\n",
    "    .csv('cliente_fake.csv', header=True)\n",
    "\n",
    "df_cliente.show()"
   ]
  },
  {
   "cell_type": "markdown",
   "metadata": {},
   "source": [
    "#### Dataset de pedido"
   ]
  },
  {
   "cell_type": "code",
   "execution_count": 5,
   "metadata": {},
   "outputs": [
    {
     "name": "stdout",
     "output_type": "stream",
     "text": [
      "+--------------+----------+--------------------+----------+-----------+--------------+------------+-------+--------+\n",
      "|     pedido_id|cliente_id|           dt_pedido|produto_id|qt_parcelas|   forma_pagto|vr_unit_item|qt_item|tp_canal|\n",
      "+--------------+----------+--------------------+----------+-----------+--------------+------------+-------+--------+\n",
      "|10000720200217|    100007|2020-02-17T00:00:...|   6253644|         20|cartao credito|         478|      1|    loja|\n",
      "|10000720200217|    100007|2020-02-17T00:00:...|   5313408|         20|cartao credito|      1357.2|      1|    loja|\n",
      "|10000720200217|    100007|2020-02-17T00:00:...|   6253140|         20|cartao credito|         372|      1|    loja|\n",
      "|10000720200625|    100007|2020-06-25T00:00:...|   6858780|          7|cartao credito|       317.8|      1|    site|\n",
      "|10000120200626|    100001|2020-06-26T00:00:...|   7560984|         16|cartao credito|     1399.04|      1|    loja|\n",
      "|10000920200614|    100009|2020-06-14T00:00:...|   7571280|         20|cartao credito|         990|      1|    loja|\n",
      "|10000920191209|    100009|2019-12-09T00:00:...|   7318728|         15|cartao credito|         999|      1|    loja|\n",
      "|10000920200614|    100009|2020-06-14T00:00:...|   7571436|         20|cartao credito|        1190|      1|    loja|\n",
      "|10000920200612|    100009|2020-06-12T00:00:...|   7571508|         20|cartao credito|        1299|      1|    loja|\n",
      "|10000520200214|    100005|2020-02-14T00:00:...|   7589448|         13|         carne|     1242.28|      1|    loja|\n",
      "|10000520200121|    100005|2020-01-21T00:00:...|   7197636|         15|         carne|        1965|      1|    loja|\n",
      "|10001720200103|    100017|2020-01-03T00:00:...|   3682128|         17|cartao credito|     2892.18|      1|    loja|\n",
      "|10001720200103|    100017|2020-01-03T00:00:...|   7537476|         17|cartao credito|      1284.7|      1|    loja|\n",
      "|10002020200731|    100020|2020-07-31T00:00:...|   7079940|         11|        outros|        5.69|      1|    loja|\n",
      "|10002020200731|    100020|2020-07-31T00:00:...|   7571232|         11|        outros|      749.97|      1|    loja|\n",
      "|10001920200604|    100019|2020-06-04T00:00:...|   6117516|         13|cartao credito|     2598.96|      1|    loja|\n",
      "|10001920200424|    100019|2020-04-24T00:00:...|   7692780|         10|cartao credito|        2099|      1|    loja|\n",
      "|10001920200309|    100019|2020-03-09T00:00:...|   7507788|          1|        outros|        1417|      1|    loja|\n",
      "|10000620200810|    100006|2020-08-10T00:00:...|   2320992|          9|         carne|       49.93|      2|    loja|\n",
      "|10000620200810|    100006|2020-08-10T00:00:...|   7502256|          9|         carne|      795.54|      1|    loja|\n",
      "+--------------+----------+--------------------+----------+-----------+--------------+------------+-------+--------+\n",
      "only showing top 20 rows\n",
      "\n"
     ]
    }
   ],
   "source": [
    "df_venda = spark.read \\\n",
    "    .option(\"delimiter\", \"|\") \\\n",
    "    .csv('venda_fake.csv', header=True)\n",
    "\n",
    "df_venda.show()"
   ]
  },
  {
   "cell_type": "code",
   "execution_count": 7,
   "metadata": {},
   "outputs": [
    {
     "name": "stdout",
     "output_type": "stream",
     "text": [
      "+----------+-----+----------------+--------+----------------+--------------+---------------+--------------+\n",
      "|cliente_id|idade|qt_total_compras|recencia|vr_total_compras|qt_total_itens|qt_max_parcelas|perfil_cliente|\n",
      "+----------+-----+----------------+--------+----------------+--------------+---------------+--------------+\n",
      "|    100001|   11|               1|       5|         1399.04|             1|             16|          loja|\n",
      "|    100002|   46|               1|       9|         1280.07|             1|              9|          loja|\n",
      "|    100003|   39|               2|       4|         1904.95|             3|              9|          loja|\n",
      "|    100004|   52|               2|      11|         6860.08|             3|             24|    multicanal|\n",
      "|    100005|   38|               2|       9|         3207.28|             2|             15|          loja|\n",
      "|    100006|   72|               1|       4|         3170.72|             4|              9|          loja|\n",
      "|    100007|   44|               2|       5|          2525.0|             4|              7|    multicanal|\n",
      "|    100008|   40|               1|       5|         1399.86|             1|             14|          loja|\n",
      "|    100009|   39|               3|       5|          4478.0|             4|             20|          loja|\n",
      "|    100010|   36|               1|      10|          898.97|             1|              9|          loja|\n",
      "|    100011|   43|               1|       9|          1324.8|             2|              9|          loja|\n",
      "|    100012|   46|               1|       9|         1099.98|             1|             14|          loja|\n",
      "|    100013|   56|               4|       4|         7053.58|             8|              4|    multicanal|\n",
      "|    100014|   56|               2|       5|         1746.01|             3|              6|          loja|\n",
      "|    100015|   74|               2|       3|         2592.99|             3|              9|          loja|\n",
      "|    100016|   48|               1|      10|          181.08|             2|              9|          loja|\n",
      "|    100017|   38|               1|      11|         4176.88|             2|             17|          loja|\n",
      "|    100018|   37|               1|      11|         1437.96|             3|             13|          loja|\n",
      "|    100019|   49|               3|       6|         6114.96|             3|             13|          loja|\n",
      "|    100020|   31|               1|       4|          755.66|             2|             11|          loja|\n",
      "+----------+-----+----------------+--------+----------------+--------------+---------------+--------------+\n",
      "\n"
     ]
    }
   ],
   "source": [
    "df_venda.createOrReplaceTempView(\"venda\")\n",
    "df_cliente.createOrReplaceTempView(\"cliente\")\n",
    "\n",
    "df_resultado = spark.sql(\n",
    "    \"\"\"\n",
    "        SELECT \n",
    "            c.cliente_id,    \n",
    "            FLOOR(DATEDIFF(NOW(), c.dt_nascimento) / 365) as idade, \n",
    "            COUNT(DISTINCT v.pedido_id) as qt_total_compras, \n",
    "            FLOOR(DATEDIFF(NOW(), MAX(v.dt_pedido)) / 30) as recencia, \n",
    "            ROUND(SUM(v.vr_unit_item * v.qt_item ), 2) as vr_total_compras, \n",
    "            FLOOR(SUM(v.qt_item)) as qt_total_itens, \n",
    "            MAX(v.qt_parcelas) as qt_max_parcelas, \n",
    "            IF(COUNT(DISTINCT(v.tp_canal)) > 1, 'multicanal', MAX(v.tp_canal)) as perfil_cliente\n",
    "        FROM cliente c \n",
    "            INNER JOIN venda v ON (c.cliente_id = v.cliente_id) \n",
    "        GROUP BY c.cliente_id,c.dt_nascimento \n",
    "        ORDER BY c.cliente_id\n",
    "    \"\"\")\n",
    "\n",
    "df_resultado.show()"
   ]
  },
  {
   "cell_type": "code",
   "execution_count": null,
   "metadata": {},
   "outputs": [],
   "source": []
  }
 ],
 "metadata": {
  "kernelspec": {
   "display_name": "Python 3",
   "language": "python",
   "name": "python3"
  },
  "language_info": {
   "codemirror_mode": {
    "name": "ipython",
    "version": 3
   },
   "file_extension": ".py",
   "mimetype": "text/x-python",
   "name": "python",
   "nbconvert_exporter": "python",
   "pygments_lexer": "ipython3",
   "version": "3.6.12"
  }
 },
 "nbformat": 4,
 "nbformat_minor": 4
}
